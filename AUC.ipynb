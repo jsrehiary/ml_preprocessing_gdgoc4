{
 "cells": [
  {
   "cell_type": "markdown",
   "metadata": {},
   "source": [
    "Initiate things"
   ]
  },
  {
   "cell_type": "code",
   "execution_count": 1,
   "metadata": {},
   "outputs": [
    {
     "data": {
      "text/html": [
       "<div>\n",
       "<style scoped>\n",
       "    .dataframe tbody tr th:only-of-type {\n",
       "        vertical-align: middle;\n",
       "    }\n",
       "\n",
       "    .dataframe tbody tr th {\n",
       "        vertical-align: top;\n",
       "    }\n",
       "\n",
       "    .dataframe thead th {\n",
       "        text-align: right;\n",
       "    }\n",
       "</style>\n",
       "<table border=\"1\" class=\"dataframe\">\n",
       "  <thead>\n",
       "    <tr style=\"text-align: right;\">\n",
       "      <th></th>\n",
       "      <th>name</th>\n",
       "      <th>author</th>\n",
       "      <th>narrator</th>\n",
       "      <th>time</th>\n",
       "      <th>releasedate</th>\n",
       "      <th>language</th>\n",
       "      <th>stars</th>\n",
       "      <th>price</th>\n",
       "    </tr>\n",
       "  </thead>\n",
       "  <tbody>\n",
       "    <tr>\n",
       "      <th>0</th>\n",
       "      <td>Geronimo Stilton #11 &amp; #12</td>\n",
       "      <td>Writtenby:GeronimoStilton</td>\n",
       "      <td>Narratedby:BillLobely</td>\n",
       "      <td>2 hrs and 20 mins</td>\n",
       "      <td>04-08-08</td>\n",
       "      <td>English</td>\n",
       "      <td>5 out of 5 stars34 ratings</td>\n",
       "      <td>468.00</td>\n",
       "    </tr>\n",
       "    <tr>\n",
       "      <th>1</th>\n",
       "      <td>The Burning Maze</td>\n",
       "      <td>Writtenby:RickRiordan</td>\n",
       "      <td>Narratedby:RobbieDaymond</td>\n",
       "      <td>13 hrs and 8 mins</td>\n",
       "      <td>01-05-18</td>\n",
       "      <td>English</td>\n",
       "      <td>4.5 out of 5 stars41 ratings</td>\n",
       "      <td>820.00</td>\n",
       "    </tr>\n",
       "    <tr>\n",
       "      <th>2</th>\n",
       "      <td>The Deep End</td>\n",
       "      <td>Writtenby:JeffKinney</td>\n",
       "      <td>Narratedby:DanRussell</td>\n",
       "      <td>2 hrs and 3 mins</td>\n",
       "      <td>06-11-20</td>\n",
       "      <td>English</td>\n",
       "      <td>4.5 out of 5 stars38 ratings</td>\n",
       "      <td>410.00</td>\n",
       "    </tr>\n",
       "    <tr>\n",
       "      <th>3</th>\n",
       "      <td>Daughter of the Deep</td>\n",
       "      <td>Writtenby:RickRiordan</td>\n",
       "      <td>Narratedby:SoneelaNankani</td>\n",
       "      <td>11 hrs and 16 mins</td>\n",
       "      <td>05-10-21</td>\n",
       "      <td>English</td>\n",
       "      <td>4.5 out of 5 stars12 ratings</td>\n",
       "      <td>615.00</td>\n",
       "    </tr>\n",
       "    <tr>\n",
       "      <th>4</th>\n",
       "      <td>The Lightning Thief: Percy Jackson, Book 1</td>\n",
       "      <td>Writtenby:RickRiordan</td>\n",
       "      <td>Narratedby:JesseBernstein</td>\n",
       "      <td>10 hrs</td>\n",
       "      <td>13-01-10</td>\n",
       "      <td>English</td>\n",
       "      <td>4.5 out of 5 stars181 ratings</td>\n",
       "      <td>820.00</td>\n",
       "    </tr>\n",
       "  </tbody>\n",
       "</table>\n",
       "</div>"
      ],
      "text/plain": [
       "                                         name                     author  \\\n",
       "0                  Geronimo Stilton #11 & #12  Writtenby:GeronimoStilton   \n",
       "1                            The Burning Maze      Writtenby:RickRiordan   \n",
       "2                                The Deep End       Writtenby:JeffKinney   \n",
       "3                        Daughter of the Deep      Writtenby:RickRiordan   \n",
       "4  The Lightning Thief: Percy Jackson, Book 1      Writtenby:RickRiordan   \n",
       "\n",
       "                    narrator                time releasedate language  \\\n",
       "0      Narratedby:BillLobely   2 hrs and 20 mins    04-08-08  English   \n",
       "1   Narratedby:RobbieDaymond   13 hrs and 8 mins    01-05-18  English   \n",
       "2      Narratedby:DanRussell    2 hrs and 3 mins    06-11-20  English   \n",
       "3  Narratedby:SoneelaNankani  11 hrs and 16 mins    05-10-21  English   \n",
       "4  Narratedby:JesseBernstein              10 hrs    13-01-10  English   \n",
       "\n",
       "                           stars   price  \n",
       "0     5 out of 5 stars34 ratings  468.00  \n",
       "1   4.5 out of 5 stars41 ratings  820.00  \n",
       "2   4.5 out of 5 stars38 ratings  410.00  \n",
       "3   4.5 out of 5 stars12 ratings  615.00  \n",
       "4  4.5 out of 5 stars181 ratings  820.00  "
      ]
     },
     "execution_count": 1,
     "metadata": {},
     "output_type": "execute_result"
    }
   ],
   "source": [
    "import pandas as pd\n",
    "import numpy as np\n",
    "import matplotlib.pyplot as plt\n",
    "import seaborn as sns\n",
    "import warnings\n",
    "\n",
    "\n",
    "warnings.filterwarnings('ignore')\n",
    "\n",
    "from sklearn.model_selection import train_test_split\n",
    "\n",
    "%matplotlib inline\n",
    "\n",
    "# Load data\n",
    "df = pd.read_csv('https://raw.githubusercontent.com/Ardavaa/GDG-feature-eng-data-prep/refs/heads/main/dataset-penugasan/AUC.csv')\n",
    "df.head()"
   ]
  },
  {
   "cell_type": "code",
   "execution_count": 2,
   "metadata": {},
   "outputs": [
    {
     "name": "stdout",
     "output_type": "stream",
     "text": [
      "<class 'pandas.core.frame.DataFrame'>\n",
      "RangeIndex: 87489 entries, 0 to 87488\n",
      "Data columns (total 8 columns):\n",
      " #   Column       Non-Null Count  Dtype \n",
      "---  ------       --------------  ----- \n",
      " 0   name         87489 non-null  object\n",
      " 1   author       87489 non-null  object\n",
      " 2   narrator     87489 non-null  object\n",
      " 3   time         87489 non-null  object\n",
      " 4   releasedate  87489 non-null  object\n",
      " 5   language     87489 non-null  object\n",
      " 6   stars        87489 non-null  object\n",
      " 7   price        87489 non-null  object\n",
      "dtypes: object(8)\n",
      "memory usage: 5.3+ MB\n"
     ]
    },
    {
     "data": {
      "text/plain": [
       "Index(['name', 'author', 'narrator', 'time', 'releasedate', 'language',\n",
       "       'stars', 'price'],\n",
       "      dtype='object')"
      ]
     },
     "execution_count": 2,
     "metadata": {},
     "output_type": "execute_result"
    }
   ],
   "source": [
    "df.info()\n",
    "\n",
    "df.columns"
   ]
  },
  {
   "cell_type": "markdown",
   "metadata": {},
   "source": [
    "Dimensi data"
   ]
  },
  {
   "cell_type": "code",
   "execution_count": 3,
   "metadata": {},
   "outputs": [
    {
     "data": {
      "text/plain": [
       "(87489, 8)"
      ]
     },
     "execution_count": 3,
     "metadata": {},
     "output_type": "execute_result"
    }
   ],
   "source": [
    "df.shape"
   ]
  },
  {
   "cell_type": "markdown",
   "metadata": {},
   "source": [
    "# Data Cleaning"
   ]
  },
  {
   "cell_type": "markdown",
   "metadata": {},
   "source": [
    "Data Duplikat"
   ]
  },
  {
   "cell_type": "code",
   "execution_count": 4,
   "metadata": {},
   "outputs": [
    {
     "data": {
      "text/plain": [
       "np.int64(0)"
      ]
     },
     "execution_count": 4,
     "metadata": {},
     "output_type": "execute_result"
    }
   ],
   "source": [
    "df.duplicated().sum()"
   ]
  },
  {
   "cell_type": "markdown",
   "metadata": {},
   "source": [
    "Data Null"
   ]
  },
  {
   "cell_type": "code",
   "execution_count": 5,
   "metadata": {},
   "outputs": [
    {
     "data": {
      "text/plain": [
       "name           0\n",
       "author         0\n",
       "narrator       0\n",
       "time           0\n",
       "releasedate    0\n",
       "language       0\n",
       "stars          0\n",
       "price          0\n",
       "dtype: int64"
      ]
     },
     "execution_count": 5,
     "metadata": {},
     "output_type": "execute_result"
    }
   ],
   "source": [
    "df.isnull().sum()"
   ]
  },
  {
   "cell_type": "code",
   "execution_count": 6,
   "metadata": {},
   "outputs": [
    {
     "data": {
      "text/plain": [
       "name           0\n",
       "author         0\n",
       "narrator       0\n",
       "time           0\n",
       "releasedate    0\n",
       "language       0\n",
       "stars          0\n",
       "price          0\n",
       "dtype: int64"
      ]
     },
     "execution_count": 6,
     "metadata": {},
     "output_type": "execute_result"
    }
   ],
   "source": [
    "df = df.dropna()\n",
    "df.isnull().sum()"
   ]
  },
  {
   "cell_type": "markdown",
   "metadata": {},
   "source": [
    "Rename kolum biar lebih \"enak dilihat\""
   ]
  },
  {
   "cell_type": "code",
   "execution_count": 7,
   "metadata": {},
   "outputs": [
    {
     "name": "stdout",
     "output_type": "stream",
     "text": [
      "<class 'pandas.core.frame.DataFrame'>\n",
      "RangeIndex: 87489 entries, 0 to 87488\n",
      "Data columns (total 8 columns):\n",
      " #   Column        Non-Null Count  Dtype \n",
      "---  ------        --------------  ----- \n",
      " 0   Name          87489 non-null  object\n",
      " 1   Author        87489 non-null  object\n",
      " 2   Narrator      87489 non-null  object\n",
      " 3   Time          87489 non-null  object\n",
      " 4   Release Date  87489 non-null  object\n",
      " 5   Language      87489 non-null  object\n",
      " 6   Stars         87489 non-null  object\n",
      " 7   Price         87489 non-null  object\n",
      "dtypes: object(8)\n",
      "memory usage: 5.3+ MB\n"
     ]
    }
   ],
   "source": [
    "df.rename(\n",
    "    columns={\n",
    "        'name': 'Name',\n",
    "        'author': 'Author',\n",
    "        'narrator': 'Narrator',\n",
    "        'time': 'Time',\n",
    "        'releasedate': 'Release Date',\n",
    "        'language': 'Language',\n",
    "        'stars': 'Stars',\n",
    "        'price': 'Price',\n",
    "    },\n",
    "    inplace=True\n",
    ")\n",
    "\n",
    "df.info()"
   ]
  },
  {
   "cell_type": "markdown",
   "metadata": {},
   "source": [
    "# Data Pre-processing + Feature Engineering"
   ]
  },
  {
   "cell_type": "code",
   "execution_count": 8,
   "metadata": {},
   "outputs": [],
   "source": [
    "to_remove = ['Name', 'Time', 'Release Date']\n",
    "df.drop(columns=to_remove, inplace=True)"
   ]
  },
  {
   "cell_type": "markdown",
   "metadata": {},
   "source": [
    "**Alasan Menghapus Kolom 'Name' dan 'Time'**\n",
    "* Dalam konteks analisis harga dan rating karya, nama karya tidak diperlukan karena terlalu banyak\n",
    "* Durasi film juga tidak terlalu relevan dalam analisis\n",
    "* Tanggal rilis juga tidak terlalu relevan\n",
    "* Menghapus kolom yang tidak relevan membantu meningkatkan efisiensi komputasi"
   ]
  },
  {
   "cell_type": "markdown",
   "metadata": {},
   "source": [
    "# # Cek nilai dan preprocess setiap kolom"
   ]
  },
  {
   "cell_type": "code",
   "execution_count": 9,
   "metadata": {},
   "outputs": [
    {
     "data": {
      "text/plain": [
       "array(['Writtenby:GeronimoStilton', 'Writtenby:RickRiordan',\n",
       "       'Writtenby:JeffKinney', ..., 'Writtenby:RogerW.Thompson',\n",
       "       'Writtenby:ChrisStewart', \"Writtenby:StephenO'Shea\"],\n",
       "      shape=(48374,), dtype=object)"
      ]
     },
     "execution_count": 9,
     "metadata": {},
     "output_type": "execute_result"
    }
   ],
   "source": [
    "df['Author'].unique()"
   ]
  },
  {
   "cell_type": "markdown",
   "metadata": {},
   "source": [
    "Karena data Author ini masih ada Writtenby: nya, kita pangkas biar lebih rapih"
   ]
  },
  {
   "cell_type": "code",
   "execution_count": 10,
   "metadata": {},
   "outputs": [
    {
     "name": "stdout",
     "output_type": "stream",
     "text": [
      "Issued:  87489\n",
      "Issued (after cleaning):  0\n"
     ]
    },
    {
     "data": {
      "text/plain": [
       "array(['GeronimoStilton', 'RickRiordan', 'JeffKinney', ...,\n",
       "       'RogerW.Thompson', 'ChrisStewart', \"StephenO'Shea\"],\n",
       "      shape=(48374,), dtype=object)"
      ]
     },
     "execution_count": 10,
     "metadata": {},
     "output_type": "execute_result"
    }
   ],
   "source": [
    "print('Issued: ', df['Author'].str.contains('Writtenby:', regex=False).sum())\n",
    "df['Author'] = df['Author'].str.replace('Writtenby:', '', regex=False)\n",
    "\n",
    "# Cek apakah Author yang masih ada \"Writtenby:\" nya\n",
    "print('Issued (after cleaning): ', df['Author'].str.contains('Writtenby:', regex=False).sum())\n",
    "df['Author'].unique()"
   ]
  },
  {
   "cell_type": "code",
   "execution_count": 11,
   "metadata": {},
   "outputs": [
    {
     "data": {
      "text/plain": [
       "array(['Narratedby:BillLobely', 'Narratedby:RobbieDaymond',\n",
       "       'Narratedby:DanRussell', ..., 'Narratedby:JeanMarsh',\n",
       "       'Narratedby:McAvoyLayne', 'Narratedby:ChrisStewart'],\n",
       "      shape=(29717,), dtype=object)"
      ]
     },
     "execution_count": 11,
     "metadata": {},
     "output_type": "execute_result"
    }
   ],
   "source": [
    "df['Narrator'].unique()"
   ]
  },
  {
   "cell_type": "markdown",
   "metadata": {},
   "source": [
    "Karena data Narrator ini masih ada Narratedby: nya, kita pangkas biar lebih rapih"
   ]
  },
  {
   "cell_type": "code",
   "execution_count": 12,
   "metadata": {},
   "outputs": [
    {
     "name": "stdout",
     "output_type": "stream",
     "text": [
      "Issued:  87489\n",
      "Issued (after cleaning):  0\n"
     ]
    },
    {
     "data": {
      "text/plain": [
       "array(['BillLobely', 'RobbieDaymond', 'DanRussell', ..., 'JeanMarsh',\n",
       "       'McAvoyLayne', 'ChrisStewart'], shape=(29717,), dtype=object)"
      ]
     },
     "execution_count": 12,
     "metadata": {},
     "output_type": "execute_result"
    }
   ],
   "source": [
    "print('Issued: ', df['Narrator'].str.contains('Narratedby:', regex=False).sum())\n",
    "df['Narrator'] = df['Narrator'].str.replace('Narratedby:', '', regex=False)\n",
    "\n",
    "# Cek apakah Narrator yang masih ada \"Narattedby:\" nya\n",
    "print('Issued (after cleaning): ', df['Author'].str.contains('Writtenby:', regex=False).sum())\n",
    "df['Narrator'].unique()"
   ]
  },
  {
   "cell_type": "code",
   "execution_count": 13,
   "metadata": {},
   "outputs": [
    {
     "data": {
      "text/plain": [
       "0        468.00\n",
       "1        820.00\n",
       "2        410.00\n",
       "3        615.00\n",
       "4        820.00\n",
       "          ...  \n",
       "87484    596.00\n",
       "87485    820.00\n",
       "87486    938.00\n",
       "87487    680.00\n",
       "87488    569.00\n",
       "Name: Price, Length: 87489, dtype: object"
      ]
     },
     "execution_count": 13,
     "metadata": {},
     "output_type": "execute_result"
    }
   ],
   "source": [
    "df['Price']"
   ]
  },
  {
   "cell_type": "markdown",
   "metadata": {},
   "source": [
    "Jadikan 'Price' tipe numeric"
   ]
  },
  {
   "cell_type": "code",
   "execution_count": 14,
   "metadata": {},
   "outputs": [
    {
     "name": "stdout",
     "output_type": "stream",
     "text": [
      "0        468.0\n",
      "1        820.0\n",
      "2        410.0\n",
      "3        615.0\n",
      "4        820.0\n",
      "         ...  \n",
      "87484    596.0\n",
      "87485    820.0\n",
      "87486    938.0\n",
      "87487    680.0\n",
      "87488    569.0\n",
      "Name: Price, Length: 87489, dtype: float64\n"
     ]
    }
   ],
   "source": [
    "df['Price'] = df['Price'].apply(pd.to_numeric, errors='coerce')\n",
    "\n",
    "print(df['Price'])"
   ]
  },
  {
   "cell_type": "code",
   "execution_count": 15,
   "metadata": {},
   "outputs": [
    {
     "data": {
      "text/plain": [
       "0           5 out of 5 stars34 ratings\n",
       "1         4.5 out of 5 stars41 ratings\n",
       "2         4.5 out of 5 stars38 ratings\n",
       "3         4.5 out of 5 stars12 ratings\n",
       "4        4.5 out of 5 stars181 ratings\n",
       "                     ...              \n",
       "87484                    Not rated yet\n",
       "87485                    Not rated yet\n",
       "87486                    Not rated yet\n",
       "87487                    Not rated yet\n",
       "87488                    Not rated yet\n",
       "Name: Stars, Length: 87489, dtype: object"
      ]
     },
     "execution_count": 15,
     "metadata": {},
     "output_type": "execute_result"
    }
   ],
   "source": [
    "df['Stars']"
   ]
  },
  {
   "cell_type": "markdown",
   "metadata": {},
   "source": [
    "Bikin function buat bersihin kolom 'Stars', karena udah lumayan kompleks"
   ]
  },
  {
   "cell_type": "code",
   "execution_count": 16,
   "metadata": {},
   "outputs": [],
   "source": [
    "def clean_stars(stars_str):\n",
    "    # Jika \"Not rated yet\"\n",
    "    if stars_str == \"Not rated yet\":\n",
    "        return None, None\n",
    "    \n",
    "    # Ekstrak nilai rating (misalnya 4.5) dan jumlah rating (misalnya 34)\n",
    "    try:\n",
    "        rating_value = float(stars_str.split('out')[0].strip())  # Ambil angka rating\n",
    "        num_ratings = int(stars_str.split('stars')[1].replace('ratings', '').strip())  # Ambil jumlah rating\n",
    "        return rating_value, num_ratings\n",
    "    except:\n",
    "        return None, None"
   ]
  },
  {
   "cell_type": "code",
   "execution_count": 17,
   "metadata": {},
   "outputs": [
    {
     "name": "stdout",
     "output_type": "stream",
     "text": [
      "                           Stars  Rating Value  Number of Ratings\n",
      "0     5 out of 5 stars34 ratings           5.0               34.0\n",
      "1   4.5 out of 5 stars41 ratings           4.5               41.0\n",
      "2   4.5 out of 5 stars38 ratings           4.5               38.0\n",
      "3   4.5 out of 5 stars12 ratings           4.5               12.0\n",
      "4  4.5 out of 5 stars181 ratings           4.5              181.0\n"
     ]
    }
   ],
   "source": [
    "# Terapkan fungsi untuk membersihkan data\n",
    "df[['Rating Value', 'Number of Ratings']] = df['Stars'].apply(lambda x: pd.Series(clean_stars(x)))\n",
    "\n",
    "# Cek hasilnya\n",
    "print(df[['Stars', 'Rating Value', 'Number of Ratings']].head())"
   ]
  },
  {
   "cell_type": "markdown",
   "metadata": {},
   "source": [
    "Menghapus kolom stars karena tidak digunakan lagi"
   ]
  },
  {
   "cell_type": "code",
   "execution_count": 18,
   "metadata": {},
   "outputs": [],
   "source": [
    "df.drop(columns=['Stars'], axis=1, inplace=True)"
   ]
  },
  {
   "cell_type": "markdown",
   "metadata": {},
   "source": [
    "Menghapus null pada dua kolom baru"
   ]
  },
  {
   "cell_type": "code",
   "execution_count": 19,
   "metadata": {},
   "outputs": [
    {
     "data": {
      "text/html": [
       "<div>\n",
       "<style scoped>\n",
       "    .dataframe tbody tr th:only-of-type {\n",
       "        vertical-align: middle;\n",
       "    }\n",
       "\n",
       "    .dataframe tbody tr th {\n",
       "        vertical-align: top;\n",
       "    }\n",
       "\n",
       "    .dataframe thead th {\n",
       "        text-align: right;\n",
       "    }\n",
       "</style>\n",
       "<table border=\"1\" class=\"dataframe\">\n",
       "  <thead>\n",
       "    <tr style=\"text-align: right;\">\n",
       "      <th></th>\n",
       "      <th>Author</th>\n",
       "      <th>Narrator</th>\n",
       "      <th>Language</th>\n",
       "      <th>Price</th>\n",
       "      <th>Rating Value</th>\n",
       "      <th>Number of Ratings</th>\n",
       "    </tr>\n",
       "  </thead>\n",
       "  <tbody>\n",
       "    <tr>\n",
       "      <th>0</th>\n",
       "      <td>GeronimoStilton</td>\n",
       "      <td>BillLobely</td>\n",
       "      <td>English</td>\n",
       "      <td>468.0</td>\n",
       "      <td>5.0</td>\n",
       "      <td>34.0</td>\n",
       "    </tr>\n",
       "    <tr>\n",
       "      <th>1</th>\n",
       "      <td>RickRiordan</td>\n",
       "      <td>RobbieDaymond</td>\n",
       "      <td>English</td>\n",
       "      <td>820.0</td>\n",
       "      <td>4.5</td>\n",
       "      <td>41.0</td>\n",
       "    </tr>\n",
       "    <tr>\n",
       "      <th>2</th>\n",
       "      <td>JeffKinney</td>\n",
       "      <td>DanRussell</td>\n",
       "      <td>English</td>\n",
       "      <td>410.0</td>\n",
       "      <td>4.5</td>\n",
       "      <td>38.0</td>\n",
       "    </tr>\n",
       "    <tr>\n",
       "      <th>3</th>\n",
       "      <td>RickRiordan</td>\n",
       "      <td>SoneelaNankani</td>\n",
       "      <td>English</td>\n",
       "      <td>615.0</td>\n",
       "      <td>4.5</td>\n",
       "      <td>12.0</td>\n",
       "    </tr>\n",
       "    <tr>\n",
       "      <th>4</th>\n",
       "      <td>RickRiordan</td>\n",
       "      <td>JesseBernstein</td>\n",
       "      <td>English</td>\n",
       "      <td>820.0</td>\n",
       "      <td>4.5</td>\n",
       "      <td>181.0</td>\n",
       "    </tr>\n",
       "    <tr>\n",
       "      <th>...</th>\n",
       "      <td>...</td>\n",
       "      <td>...</td>\n",
       "      <td>...</td>\n",
       "      <td>...</td>\n",
       "      <td>...</td>\n",
       "      <td>...</td>\n",
       "    </tr>\n",
       "    <tr>\n",
       "      <th>86991</th>\n",
       "      <td>AlaindeBotton</td>\n",
       "      <td>NicholasBell</td>\n",
       "      <td>English</td>\n",
       "      <td>820.0</td>\n",
       "      <td>3.0</td>\n",
       "      <td>4.0</td>\n",
       "    </tr>\n",
       "    <tr>\n",
       "      <th>86993</th>\n",
       "      <td>CarloPizzati</td>\n",
       "      <td>ManishDongardive</td>\n",
       "      <td>English</td>\n",
       "      <td>668.0</td>\n",
       "      <td>5.0</td>\n",
       "      <td>3.0</td>\n",
       "    </tr>\n",
       "    <tr>\n",
       "      <th>87010</th>\n",
       "      <td>TimButcher</td>\n",
       "      <td>TimButcher</td>\n",
       "      <td>English</td>\n",
       "      <td>672.0</td>\n",
       "      <td>4.0</td>\n",
       "      <td>3.0</td>\n",
       "    </tr>\n",
       "    <tr>\n",
       "      <th>87017</th>\n",
       "      <td>MarkTwain</td>\n",
       "      <td>GroverGardner</td>\n",
       "      <td>English</td>\n",
       "      <td>937.0</td>\n",
       "      <td>4.5</td>\n",
       "      <td>2.0</td>\n",
       "    </tr>\n",
       "    <tr>\n",
       "      <th>87018</th>\n",
       "      <td>EmmaSlade</td>\n",
       "      <td>EmmaSlade</td>\n",
       "      <td>English</td>\n",
       "      <td>569.0</td>\n",
       "      <td>5.0</td>\n",
       "      <td>4.0</td>\n",
       "    </tr>\n",
       "  </tbody>\n",
       "</table>\n",
       "<p>7432 rows × 6 columns</p>\n",
       "</div>"
      ],
      "text/plain": [
       "                Author          Narrator Language  Price  Rating Value  \\\n",
       "0      GeronimoStilton        BillLobely  English  468.0           5.0   \n",
       "1          RickRiordan     RobbieDaymond  English  820.0           4.5   \n",
       "2           JeffKinney        DanRussell  English  410.0           4.5   \n",
       "3          RickRiordan    SoneelaNankani  English  615.0           4.5   \n",
       "4          RickRiordan    JesseBernstein  English  820.0           4.5   \n",
       "...                ...               ...      ...    ...           ...   \n",
       "86991    AlaindeBotton      NicholasBell  English  820.0           3.0   \n",
       "86993     CarloPizzati  ManishDongardive  English  668.0           5.0   \n",
       "87010       TimButcher        TimButcher  English  672.0           4.0   \n",
       "87017        MarkTwain     GroverGardner  English  937.0           4.5   \n",
       "87018        EmmaSlade         EmmaSlade  English  569.0           5.0   \n",
       "\n",
       "       Number of Ratings  \n",
       "0                   34.0  \n",
       "1                   41.0  \n",
       "2                   38.0  \n",
       "3                   12.0  \n",
       "4                  181.0  \n",
       "...                  ...  \n",
       "86991                4.0  \n",
       "86993                3.0  \n",
       "87010                3.0  \n",
       "87017                2.0  \n",
       "87018                4.0  \n",
       "\n",
       "[7432 rows x 6 columns]"
      ]
     },
     "execution_count": 19,
     "metadata": {},
     "output_type": "execute_result"
    }
   ],
   "source": [
    "df.isnull().sum()\n",
    "\n",
    "df.dropna()"
   ]
  },
  {
   "cell_type": "code",
   "execution_count": 20,
   "metadata": {},
   "outputs": [
    {
     "data": {
      "text/plain": [
       "Author                   0\n",
       "Narrator                 0\n",
       "Language                 0\n",
       "Price                 9474\n",
       "Rating Value         78278\n",
       "Number of Ratings    78278\n",
       "dtype: int64"
      ]
     },
     "execution_count": 20,
     "metadata": {},
     "output_type": "execute_result"
    }
   ],
   "source": [
    "df.isnull().sum()"
   ]
  },
  {
   "cell_type": "markdown",
   "metadata": {},
   "source": [
    "# Visualisasi Data"
   ]
  },
  {
   "cell_type": "markdown",
   "metadata": {},
   "source": [
    "Visualisasi data dilakukan sebelum data preprocessing + feature engineering"
   ]
  },
  {
   "cell_type": "code",
   "execution_count": 21,
   "metadata": {},
   "outputs": [],
   "source": [
    "num_cols = ['Price', 'Rating Value', 'Number of Ratings']"
   ]
  },
  {
   "cell_type": "code",
   "execution_count": 22,
   "metadata": {},
   "outputs": [
    {
     "data": {
      "image/png": "[encoded data removed]",
      "text/plain": [
       "<Figure size 1200x600 with 1 Axes>"
      ]
     },
     "metadata": {},
     "output_type": "display_data"
    }
   ],
   "source": [
    "plt.rcParams['font.sans-serif'] = ['Microsoft JhengHei']\n",
    "plt.rcParams['axes.unicode_minus'] = False\n",
    "\n",
    "df['Author'].value_counts().nlargest(20).plot(kind='bar', figsize=(12, 6))\n",
    "\n",
    "plt.title('Top 20 Penulis dengan Jumlah buku Terbanyak')\n",
    "plt.xlabel('Penulis')\n",
    "plt.ylabel('Jumlah Buku')\n",
    "plt.xticks(rotation=90)\n",
    "\n",
    "plt.show()"
   ]
  },
  {
   "cell_type": "code",
   "execution_count": 23,
   "metadata": {},
   "outputs": [
    {
     "data": {
      "text/plain": [
       "<seaborn.axisgrid.FacetGrid at 0x21586b44590>"
      ]
     },
     "execution_count": 23,
     "metadata": {},
     "output_type": "execute_result"
    },
    {
     "data": {
      "image/png": "[encoded data removed]",
      "text/plain": [
       "<Figure size 500x500 with 1 Axes>"
      ]
     },
     "metadata": {},
     "output_type": "display_data"
    }
   ],
   "source": [
    "sns.displot(df['Price'])"
   ]
  },
  {
   "cell_type": "code",
   "execution_count": 24,
   "metadata": {},
   "outputs": [
    {
     "data": {
      "text/plain": [
       "<Axes: xlabel='Rating Value'>"
      ]
     },
     "execution_count": 24,
     "metadata": {},
     "output_type": "execute_result"
    },
    {
     "data": {
      "image/png": "[encoded data removed]",
      "text/plain": [
       "<Figure size 640x480 with 1 Axes>"
      ]
     },
     "metadata": {},
     "output_type": "display_data"
    }
   ],
   "source": [
    "df['Rating Value'].value_counts().plot(kind='bar')"
   ]
  },
  {
   "cell_type": "code",
   "execution_count": null,
   "metadata": {},
   "outputs": [],
   "source": []
  }
 ],
 "metadata": {
  "kernelspec": {
   "display_name": "Env",
   "language": "python",
   "name": "python3"
  },
  "language_info": {
   "codemirror_mode": {
    "name": "ipython",
    "version": 3
   },
   "file_extension": ".py",
   "mimetype": "text/x-python",
   "name": "python",
   "nbconvert_exporter": "python",
   "pygments_lexer": "ipython3",
   "version": "3.13.2"
  }
 },
 "nbformat": 4,
 "nbformat_minor": 2
}
